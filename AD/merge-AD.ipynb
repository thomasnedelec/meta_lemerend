{
 "cells": [
  {
   "cell_type": "code",
   "execution_count": 1,
   "id": "3d25c7f5",
   "metadata": {},
   "outputs": [],
   "source": [
    "import pandas as pd \n",
    "from scipy.stats import norm\n",
    "import numpy as np "
   ]
  },
  {
   "cell_type": "code",
   "execution_count": 2,
   "id": "e6fa24aa",
   "metadata": {},
   "outputs": [],
   "source": [
    "time_period = '5_10'"
   ]
  },
  {
   "cell_type": "code",
   "execution_count": 3,
   "id": "e406faf4",
   "metadata": {},
   "outputs": [],
   "source": [
    "data_UK = pd.read_csv('country_specific_results/results_alz_UK.csv',sep=';')\n",
    "data_SW = pd.read_csv('country_specific_results/results_alz_SW.csv',sep=';')\n",
    "data_FR = pd.read_csv('country_specific_results/results_alz_FR.csv',sep=';')"
   ]
  },
  {
   "cell_type": "code",
   "execution_count": null,
   "id": "1ffc39a3",
   "metadata": {},
   "outputs": [],
   "source": [
    "data_FR['code'] = data_FR['code'].str[2:-2]\n",
    "data_UK['code'] = data_UK['code'].str[2:-2]\n",
    "data_SW = data_SW.rename(columns={'oddratio_ci':'final_odds_ratio_2_5_alz','oddratio_ci.1':'final_odds_ratio_5_10_alz'})\n"
   ]
  },
  {
   "cell_type": "code",
   "execution_count": 6,
   "id": "b42c5163",
   "metadata": {},
   "outputs": [],
   "source": [
    "def prepare_df(df,country,time_period,nb_rows): \n",
    "    df['odds_ratio_'+time_period+'_'+country] = df['final_odds_ratio_'+time_period+'_alz'].apply(lambda x : x.split('(')[0])\n",
    "    df['odds_ratio_'+time_period+'_low'+'_'+country] = df['final_odds_ratio_'+time_period+'_alz'].apply(lambda x : x.split('(')[1].split(',')[0])\n",
    "    df['odds_ratio_'+time_period+'_high'+'_'+country] = df['final_odds_ratio_'+time_period+'_alz'].apply(lambda x : x.split('(')[1].split(',')[1][:-1])\n",
    "    df = df.replace('<0.001 ','0.0')\n",
    "    df = df.replace('<0.001','0.0')\n",
    "    df = df.astype(dtype={'odds_ratio_'+time_period+'_'+country:'float','odds_ratio_'+time_period+'_low'+'_'+country:'float','odds_ratio_'+time_period+'_high'+'_'+country:'float'})\n",
    "    counf_interval = norm.ppf(1 - 0.025/nb_rows)\n",
    "    df['std_'+time_period+'_'+country] = (np.log(df['odds_ratio_'+time_period+'_high'+'_'+country])-np.log(df['odds_ratio_'+time_period+'_'+country]))/(counf_interval)\n",
    "    counf_interval_95 = norm.ppf(1 - 0.025)\n",
    "\n",
    "    df['odds_ratio_interval95_'+time_period+'_'+country] = df.apply(lambda x : str(x['odds_ratio_'+time_period+'_'+country])+'('+str(np.exp(np.log(x['odds_ratio_'+time_period+'_'+country])-counf_interval_95*x['std_'+time_period+'_'+country]).round(2))+'-'+str(np.exp(np.log(x['odds_ratio_'+time_period+'_'+country])+counf_interval_95*x['std_'+time_period+'_'+country]).round(2))+')',  axis=1)\n",
    "    return df\n",
    "\n",
    "def prepare_df_SW(df,country,time_period,nb_rows): \n",
    "    df['odds_ratio_'+time_period+'_'+country] = df['final_odds_ratio_'+time_period+'_alz'].apply(lambda x : x.split('(')[0])\n",
    "    df['odds_ratio_'+time_period+'_low'+'_'+country] = df['final_odds_ratio_'+time_period+'_alz'].apply(lambda x : x.split('(')[1].split('-')[0])\n",
    "    df['odds_ratio_'+time_period+'_high'+'_'+country] = df['final_odds_ratio_'+time_period+'_alz'].apply(lambda x : x.split('(')[1].split('-')[1][:-1])\n",
    "    df = df.replace('<0.001 ','0.0')\n",
    "    df = df.replace('<0.001','0.0')\n",
    "    df = df.astype(dtype={'odds_ratio_'+time_period+'_'+country:'float','odds_ratio_'+time_period+'_low'+'_'+country:'float','odds_ratio_'+time_period+'_high'+'_'+country:'float'})\n",
    "    counf_interval = norm.ppf(1 - 0.025/nb_rows)\n",
    "    df['std_'+time_period+'_'+country] = (np.log(df['odds_ratio_'+time_period+'_high'+'_'+country])-np.log(df['odds_ratio_'+time_period+'_'+country]))/(counf_interval)\n",
    "    counf_interval_95 = norm.ppf(1 - 0.025)\n",
    "\n",
    "    df['odds_ratio_interval95_'+time_period+'_'+country] = df.apply(lambda x : str(x['odds_ratio_'+time_period+'_'+country])+' ('+str(np.exp(np.log(x['odds_ratio_'+time_period+'_'+country])-counf_interval_95*x['std_'+time_period+'_'+country]).round(2))+'-'+str(np.exp(np.log(x['odds_ratio_'+time_period+'_'+country])+counf_interval_95*x['std_'+time_period+'_'+country]).round(2))+')',  axis=1)\n",
    "    return df\n",
    "    "
   ]
  },
  {
   "cell_type": "code",
   "execution_count": null,
   "id": "caaa08fb",
   "metadata": {},
   "outputs": [],
   "source": [
    "data_SW = prepare_df_SW(data_SW,'SW',time_period,55)\n",
    "data_UK = prepare_df(data_UK,'UK',time_period,1)\n",
    "data_FR = prepare_df(data_FR,'FR',time_period,1)"
   ]
  },
  {
   "cell_type": "code",
   "execution_count": 8,
   "id": "986c2a88",
   "metadata": {},
   "outputs": [],
   "source": [
    "data_FR['n_'+time_period+'_FR2'] = data_FR['n_'+time_period+'_FR']\n",
    "data_UK['n_'+time_period+'_UK2'] = data_UK['n_'+time_period+'_UK']\n",
    "\n",
    "\n",
    "data_FR['n_'+time_period+'_FR'] = data_FR['n_'+time_period+'_FR'].apply(lambda x : x.split('(')[1][:-2])\n",
    "data_UK['n_'+time_period+'_UK'] = data_UK['n_'+time_period+'_UK'].apply(lambda x : x.split('(')[1][:-2])\n",
    "\n",
    "\n",
    "df_final = pd.merge(data_FR,data_SW,on='code',how='outer')\n",
    "df_final = pd.merge(df_final,data_UK,on='code',how='outer')\n",
    "\n",
    "df_final = df_final.rename(columns={'medoc_x':'medoc'})\n",
    "\n",
    "df_final['final_name'] = df_final['code']+': '+df_final['comorb_x']"
   ]
  },
  {
   "cell_type": "code",
   "execution_count": null,
   "id": "e1746899",
   "metadata": {},
   "outputs": [],
   "source": [
    "df_final = df_final[['final_name','code','odds_ratio_'+time_period+'_SW', 'std_'+time_period+'_SW',\n",
    "            'odds_ratio_'+time_period+'_UK', 'std_'+time_period+'_UK',\n",
    "            'odds_ratio_'+time_period+'_FR', 'std_'+time_period+'_FR', 'n_'+time_period+'_FR','n_'+time_period+'_UK','n_'+time_period+'_SW']]\n",
    "\n",
    "for column in df_final.columns : \n",
    "        df_final = df_final.rename(columns={column: column.replace('_'+time_period,'')})\n",
    "df_final_R = df_final.dropna().reset_index(drop=True)\n",
    "df_final_R\n"
   ]
  },
  {
   "cell_type": "code",
   "execution_count": null,
   "id": "c171b65f",
   "metadata": {},
   "outputs": [],
   "source": [
    "def prepare_for_R(df,time_period): \n",
    "    for column in df.columns : \n",
    "        df = df.rename(columns={column: column.replace('_'+time_period,'')})\n",
    "    df['coeff_UK'] = np.log(df['odds_ratio_UK'])\n",
    "    df['coeff_FR'] = np.log(df['odds_ratio_FR'])\n",
    "    df['coeff_SW'] = np.log(df['odds_ratio_SW'])\n",
    "    return df\n",
    "\n",
    "df_final_R = prepare_for_R(df_final_R,time_period)\n",
    "df_final_R.to_csv('temp/df_'+time_period+'_final.csv')\n",
    "df_final_R"
   ]
  },
  {
   "cell_type": "code",
   "execution_count": null,
   "id": "f264bda2",
   "metadata": {},
   "outputs": [],
   "source": [
    "meta_analysis = pd.read_csv('temp/result_meta_analysis_R_'+time_period+'.csv')\n",
    "meta_analysis = pd.merge(meta_analysis,df_final, on ='code',how='outer')\n",
    "meta_analysis\n"
   ]
  },
  {
   "cell_type": "code",
   "execution_count": null,
   "id": "1f848d02",
   "metadata": {},
   "outputs": [],
   "source": [
    "data_SW['n_'+time_period+'_SW'] = data_SW.apply(lambda x : str(x['n_brut_'+time_period+'_SW'])+' ('+str(np.round(x['n_'+time_period+'_SW'],2))+'%)',axis=1)\n",
    "data_SW['n_'+time_period+'_SW_cont'] = data_SW.apply(lambda x : str(x['n_brut_'+time_period+'_SW_cont'])+' ('+str(np.round(x['n_'+time_period+'_SW_cont'],2))+'%)',axis=1)\n",
    "data_SW_n = data_SW[['code','n_'+time_period+'_SW','n_'+time_period+'_SW_cont']]\n",
    "data_FR_n = data_FR[['code','n_'+time_period+'_FR2','n_'+time_period+'_FR_cont']]\n",
    "data_UK_n = data_UK[['code','n_'+time_period+'_UK2','n_'+time_period+'_UK_cont']]\n",
    "data_n = pd.merge(data_SW_n,data_FR_n,on='code',how='outer')\n",
    "data_n = pd.merge(data_UK_n,data_n,on='code',how='outer')\n",
    "data_n"
   ]
  },
  {
   "cell_type": "code",
   "execution_count": null,
   "id": "3aac0a16",
   "metadata": {},
   "outputs": [],
   "source": [
    "meta_analysis['odd_ratio_meta'] = meta_analysis.apply(lambda x : str(np.round(x['odd_ratio'],2)) + ' ('+ str(np.round(x['low_odd_ratio'],2))+'-'+str(np.round(x['high_odd_ratio'],2))+')',axis=1)\n",
    "\n",
    "for country in ['UK','FR','SW']: \n",
    "    if country == 'UK':\n",
    "        nb_tests = data_UK.shape[0]\n",
    "    elif country =='FR':\n",
    "        nb_tests = data_FR.shape[0]\n",
    "    else:\n",
    "        nb_tests = data_SW.shape[0]\n",
    "    counf_interval_95 = norm.ppf(1 - 0.025/nb_tests)   \n",
    "    meta_analysis['odds_ratio_'+country] = meta_analysis.apply(lambda x : str(x['odds_ratio_'+country])+' ('+str(np.exp(np.log(x['odds_ratio_'+country])-counf_interval_95*x['std_'+country]).round(2))+'-'+str(np.exp(np.log(x['odds_ratio_'+country])+counf_interval_95*x['std_'+country]).round(2))+')',  axis=1)\n",
    "\n",
    "meta_analysis = meta_analysis[['code','odd_ratio_meta','p_value','odds_ratio_SW','odds_ratio_FR','odds_ratio_UK']]\n",
    "\n",
    "pd.set_option('display.max_rows', 500)\n",
    "\n",
    "mapping = pd.read_csv('../helpers/mapping.csv',sep=';')\n",
    "\n",
    "meta_analysis = pd.merge(meta_analysis,data_n,on='code',how='outer')\n",
    "meta_analysis = pd.merge(meta_analysis,mapping,on='code',how='inner')\n",
    "meta_analysis['final_name'] = meta_analysis['code']+': '+ meta_analysis['name_medoc']\n",
    "meta_analysis = meta_analysis[['final_name','code','odd_ratio_meta','p_value','odds_ratio_SW','odds_ratio_FR','odds_ratio_UK','n_'+time_period+'_UK2','n_'+time_period+'_UK_cont','n_'+time_period+'_SW','n_'+time_period+'_SW_cont','n_'+time_period+'_FR2','n_'+time_period+'_FR_cont']]\n",
    "meta_analysis = meta_analysis.replace('nan (nan-nan)','')\n",
    "# Formater les p-values : arrondir à 3 décimales ou \"< 0.001\" si inférieur à 0.001\n",
    "meta_analysis['p_value'] = meta_analysis['p_value'].apply(lambda x: '< 0.001' if x < 0.001 else round(x, 3))\n",
    "\n",
    "meta_analysis = meta_analysis.sort_values(by=['final_name'])\n",
    "meta_analysis.to_csv('meta-analysis_result/meta_analysis_result_alz_final_'+time_period+'.csv',sep=';')"
   ]
  }
 ],
 "metadata": {
  "kernelspec": {
   "display_name": "Python 3 (ipykernel)",
   "language": "python",
   "name": "python3"
  },
  "language_info": {
   "codemirror_mode": {
    "name": "ipython",
    "version": 3
   },
   "file_extension": ".py",
   "mimetype": "text/x-python",
   "name": "python",
   "nbconvert_exporter": "python",
   "pygments_lexer": "ipython3",
   "version": "3.11.5"
  }
 },
 "nbformat": 4,
 "nbformat_minor": 5
}
