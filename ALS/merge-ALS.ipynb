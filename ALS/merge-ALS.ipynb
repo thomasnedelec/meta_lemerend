{
 "cells": [
  {
   "cell_type": "code",
   "execution_count": 200,
   "id": "3d25c7f5",
   "metadata": {},
   "outputs": [],
   "source": [
    "import pandas as pd \n",
    "from scipy.stats import norm\n",
    "import numpy as np "
   ]
  },
  {
   "cell_type": "code",
   "execution_count": 202,
   "id": "e6fa24aa",
   "metadata": {},
   "outputs": [],
   "source": [
    "time_period = '5_10'"
   ]
  },
  {
   "cell_type": "code",
   "execution_count": 203,
   "id": "e406faf4",
   "metadata": {},
   "outputs": [],
   "source": [
    "data_FR = pd.read_csv('results_als_FR.csv',sep=';')\n",
    "data_SW = pd.read_csv('results_als_SW.csv',sep=';')\n",
    "data_AUS = pd.read_csv('results_als_AUS.csv',sep=';')"
   ]
  },
  {
   "cell_type": "code",
   "execution_count": null,
   "id": "24671c55",
   "metadata": {},
   "outputs": [],
   "source": [
    "data_SW = data_SW.rename(columns={'oddratio_ci':'final_odds_ratio_2_5_als','oddratio_ci.1':'final_odds_ratio_5_10_als'})\n"
   ]
  },
  {
   "cell_type": "code",
   "execution_count": 206,
   "id": "b42c5163",
   "metadata": {},
   "outputs": [],
   "source": [
    "def prepare_df_AUS(df,country,time_period,nb_rows): \n",
    "    df['odds_ratio_'+time_period+'_'+country] = df['final_odds_ratio_'+time_period+'_als']\n",
    "    #df['odds_ratio_'+time_period+'_low'+'_'+country] = df['final_odds_ratio_'+time_period+'_alz'].apply(lambda x : x.split('(')[1].split(',')[0])\n",
    "    #df['odds_ratio_'+time_period+'_high'+'_'+country] = df['final_odds_ratio_'+time_period+'_alz'].apply(lambda x : x.split('(')[1].split(',')[1][:-1])\n",
    "    #df = df.replace('<0.001 ','0.0')\n",
    "    #df = df.replace('<0.001','0.0')\n",
    "    #df = df.astype(dtype={'odds_ratio_'+time_period+'_'+country:'float','odds_ratio_'+time_period+'_low'+'_'+country:'float','odds_ratio_'+time_period+'_high'+'_'+country:'float'})\n",
    "    #counf_interval = norm.ppf(1 - 0.025/nb_rows)\n",
    "    df['std_'+time_period+'_'+country] = df['std_'+time_period]\n",
    "    counf_interval_95 = norm.ppf(1 - 0.025)\n",
    "\n",
    "    df['odds_ratio_interval95_'+time_period+'_'+country] = df.apply(lambda x : str(x['odds_ratio_'+time_period+'_'+country])+'('+str(np.exp(np.log(x['odds_ratio_'+time_period+'_'+country])-counf_interval_95*x['std_'+time_period+'_'+country]).round(2))+'-'+str(np.exp(np.log(x['odds_ratio_'+time_period+'_'+country])+counf_interval_95*x['std_'+time_period+'_'+country]).round(2))+')',  axis=1)\n",
    "    return df\n",
    "\n",
    "def prepare_df_FR(df,country,time_period,nb_rows): \n",
    "    df['odds_ratio_'+time_period+'_'+country] = np.exp(df['coef_'+time_period])\n",
    "    #df['odds_ratio_'+time_period+'_low'+'_'+country] = df['final_odds_ratio_'+time_period+'_alz'].apply(lambda x : x.split('(')[1].split(',')[0])\n",
    "    #df['odds_ratio_'+time_period+'_high'+'_'+country] = df['final_odds_ratio_'+time_period+'_alz'].apply(lambda x : x.split('(')[1].split(',')[1][:-1])\n",
    "    #df = df.replace('<0.001 ','0.0')\n",
    "    #df = df.replace('<0.001','0.0')\n",
    "    #df = df.astype(dtype={'odds_ratio_'+time_period+'_'+country:'float','odds_ratio_'+time_period+'_low'+'_'+country:'float','odds_ratio_'+time_period+'_high'+'_'+country:'float'})\n",
    "    #counf_interval = norm.ppf(1 - 0.025/nb_rows)\n",
    "    df['std_'+time_period+'_'+country] = df['std_'+time_period]\n",
    "    counf_interval_95 = norm.ppf(1 - 0.025)\n",
    "\n",
    "    df['odds_ratio_interval95_'+time_period+'_'+country] = df.apply(lambda x : str(x['odds_ratio_'+time_period+'_'+country])+'('+str(np.exp(np.log(x['odds_ratio_'+time_period+'_'+country])-counf_interval_95*x['std_'+time_period+'_'+country]).round(2))+'-'+str(np.exp(np.log(x['odds_ratio_'+time_period+'_'+country])+counf_interval_95*x['std_'+time_period+'_'+country]).round(2))+')',  axis=1)\n",
    "    return df\n",
    "\n",
    "def prepare_df_SW(df,country,time_period,nb_rows): \n",
    "    df['odds_ratio_'+time_period+'_'+country] = df['final_odds_ratio_'+time_period+'_als'].apply(lambda x : x.split('(')[0])\n",
    "    df['odds_ratio_'+time_period+'_low'+'_'+country] = df['final_odds_ratio_'+time_period+'_als'].apply(lambda x : x.split('(')[1].split('-')[0])\n",
    "    df['odds_ratio_'+time_period+'_high'+'_'+country] = df['final_odds_ratio_'+time_period+'_als'].apply(lambda x : x.split('(')[1].split('-')[1][:-1])\n",
    "    df = df.replace('<0.001 ','0.0')\n",
    "    df = df.replace('<0.001','0.0')\n",
    "    df = df.astype(dtype={'odds_ratio_'+time_period+'_'+country:'float','odds_ratio_'+time_period+'_low'+'_'+country:'float','odds_ratio_'+time_period+'_high'+'_'+country:'float'})\n",
    "    counf_interval = norm.ppf(1 - 0.025/nb_rows)\n",
    "    df['std_'+time_period+'_'+country] = (np.log(df['odds_ratio_'+time_period+'_high'+'_'+country])-np.log(df['odds_ratio_'+time_period+'_'+country]))/(counf_interval)\n",
    "    counf_interval_95 = norm.ppf(1 - 0.025)\n",
    "\n",
    "    df['odds_ratio_interval95_'+time_period+'_'+country] = df.apply(lambda x : str(x['odds_ratio_'+time_period+'_'+country])+' ('+str(np.exp(np.log(x['odds_ratio_'+time_period+'_'+country])-counf_interval_95*x['std_'+time_period+'_'+country]).round(2))+'-'+str(np.exp(np.log(x['odds_ratio_'+time_period+'_'+country])+counf_interval_95*x['std_'+time_period+'_'+country]).round(2))+')',  axis=1)\n",
    "    return df\n",
    "    "
   ]
  },
  {
   "cell_type": "code",
   "execution_count": 207,
   "id": "caaa08fb",
   "metadata": {},
   "outputs": [],
   "source": [
    "data_SW = prepare_df_SW(data_SW,'SW',time_period,52)\n",
    "data_AUS = prepare_df_AUS(data_AUS,'AUS',time_period,1)\n",
    "data_FR = prepare_df_FR(data_FR,'FR',time_period,1)"
   ]
  },
  {
   "cell_type": "code",
   "execution_count": 209,
   "id": "986c2a88",
   "metadata": {},
   "outputs": [],
   "source": [
    "data_FR['n_'+time_period+'_FR2'] = data_FR['n_'+time_period+'_FR']\n",
    "\n",
    "data_FR['n_'+time_period+'_FR'] = data_FR['n_'+time_period+'_FR'].apply(lambda x : x.split('(')[1][:-2])\n",
    "\n",
    "\n",
    "df_final = pd.merge(data_AUS,data_SW,on='code',how='outer')\n",
    "df_final = pd.merge(df_final,data_FR,on='code',how='outer')\n",
    "df_final = df_final.rename(columns={'medoc_y':'medoc'})\n",
    "\n",
    "mapping = pd.read_csv('mapping.csv',sep=';')\n",
    "df_final = pd.merge(df_final,mapping,on='code',how='inner')\n",
    "df_final['final_name'] = df_final['code']+': '+df_final['name_medoc']"
   ]
  },
  {
   "cell_type": "code",
   "execution_count": null,
   "id": "e1746899",
   "metadata": {},
   "outputs": [],
   "source": [
    "df_final = df_final[['medoc','code','final_name','odds_ratio_'+time_period+'_SW', 'std_'+time_period+'_SW',\n",
    "            'odds_ratio_'+time_period+'_AUS', 'std_'+time_period+'_AUS',\n",
    "            'odds_ratio_'+time_period+'_FR', 'std_'+time_period+'_FR', 'n_'+time_period+'_FR','n_'+time_period+'_SW','n_'+time_period+'_AUS',\n",
    "                    ]]\n",
    "for column in df_final.columns : \n",
    "        df_final = df_final.rename(columns={column: column.replace('_'+time_period,'')})\n",
    "df_final_R = df_final.dropna().reset_index(drop=True)\n",
    "df_final_R"
   ]
  },
  {
   "cell_type": "code",
   "execution_count": null,
   "id": "f57b3c03",
   "metadata": {},
   "outputs": [],
   "source": []
  },
  {
   "cell_type": "code",
   "execution_count": null,
   "id": "c171b65f",
   "metadata": {
    "scrolled": true
   },
   "outputs": [],
   "source": [
    "def prepare_for_R(df,time_period): \n",
    "    for column in df.columns : \n",
    "        df = df.rename(columns={column: column.replace('_'+time_period,'')})\n",
    "    df['coeff_AUS'] = np.log(df['odds_ratio_AUS'])\n",
    "    df['coeff_FR'] = np.log(df['odds_ratio_FR'])\n",
    "    df['coeff_SW'] = np.log(df['odds_ratio_SW'])    \n",
    "    return df\n",
    "\n",
    "df_final_R = prepare_for_R(df_final_R,time_period)\n",
    "df_final_R.to_csv('df_'+time_period+'_als_final.csv')\n",
    "df_final_R"
   ]
  },
  {
   "cell_type": "code",
   "execution_count": null,
   "id": "f264bda2",
   "metadata": {},
   "outputs": [],
   "source": [
    "meta_analysis = pd.read_csv('result_meta_analysis_als_R_'+time_period+'.csv')\n",
    "meta_analysis = pd.merge(meta_analysis,df_final, on ='code',how='outer')\n",
    "meta_analysis\n"
   ]
  },
  {
   "cell_type": "code",
   "execution_count": null,
   "id": "083d4954",
   "metadata": {},
   "outputs": [],
   "source": [
    "data_AUS['n_'+time_period+'_AUS'] = data_AUS.apply(lambda x : str(x['n_brut_'+time_period+'_AUS'])+' ('+str(np.round(x['n_'+time_period+'_AUS'],2))+'%)',axis=1)\n",
    "data_AUS['n_'+time_period+'_AUS_cont'] = data_AUS.apply(lambda x : str(x['n_brut_'+time_period+'_AUS_cont'])+' ('+str(np.round(x['n_'+time_period+'_AUS_cont'],2))+'%)',axis=1)\n",
    "data_AUS_n = data_AUS[['code','n_'+time_period+'_AUS','n_'+time_period+'_AUS_cont']]\n",
    "data_SW['n_'+time_period+'_SW'] = data_SW.apply(lambda x : str(x['n_brut_'+time_period+'_SW'])+' ('+str(np.round(x['n_'+time_period+'_SW'],2))+'%)',axis=1)\n",
    "data_SW['n_'+time_period+'_SW_cont'] = data_SW.apply(lambda x : str(x['n_brut_'+time_period+'_SW_cont'])+' ('+str(np.round(x['n_'+time_period+'_SW_cont'],2))+'%)',axis=1)\n",
    "data_SW_n = data_SW[['code','n_'+time_period+'_SW','n_'+time_period+'_SW_cont']]\n",
    "data_FR_n = data_FR[['code','n_'+time_period+'_FR2','n_'+time_period+'_FR_cont']]\n",
    "data_AUS_n = data_AUS[['code','n_'+time_period+'_AUS','n_'+time_period+'_AUS_cont']]\n",
    "data_n = pd.merge(data_SW_n,data_FR_n,on='code',how='outer')\n",
    "data_n = pd.merge(data_AUS_n,data_n,on='code',how='outer')\n",
    "data_n"
   ]
  },
  {
   "cell_type": "code",
   "execution_count": null,
   "id": "f285210a",
   "metadata": {},
   "outputs": [],
   "source": [
    "meta_analysis['odd_ratio_meta'] = meta_analysis.apply(lambda x : str(np.round(x['odd_ratio'],2)) + ' ('+ str(np.round(x['low_odd_ratio'],2))+'-'+str(np.round(x['high_odd_ratio'],2))+')',axis=1)\n",
    "for country in ['AUS','FR','SW']: \n",
    "    if country == 'AUS':\n",
    "        nb_tests = data_AUS.shape[0]\n",
    "    elif country =='FR':\n",
    "        nb_tests = data_FR.shape[0]\n",
    "    else:\n",
    "        nb_tests = data_SW.shape[0]\n",
    "    counf_interval_95 = norm.ppf(1 - 0.025/nb_tests)   \n",
    "    meta_analysis['odds_ratio_'+country] = meta_analysis.apply(lambda x : str(np.round(x['odds_ratio_'+country],2))+' ('+str(np.exp(np.log(x['odds_ratio_'+country])-counf_interval_95*x['std_'+country]).round(2))+'-'+str(np.exp(np.log(x['odds_ratio_'+country])+counf_interval_95*x['std_'+country]).round(2))+')',  axis=1)\n",
    "\n",
    "meta_analysis = meta_analysis[['code','odd_ratio_meta','p_value','odds_ratio_SW','odds_ratio_FR','odds_ratio_AUS']]\n",
    "\n",
    "mapping = pd.read_csv('mapping.csv',sep=';')\n",
    "meta_analysis = pd.merge(meta_analysis,data_n,on='code',how='outer')\n",
    "meta_analysis = pd.merge(meta_analysis,mapping,on='code',how='outer')\n",
    "meta_analysis['final_name'] = meta_analysis['code']+': '+ meta_analysis['name_medoc']\n",
    "meta_analysis = meta_analysis[['final_name','code','odd_ratio_meta','p_value','odds_ratio_SW','odds_ratio_FR','odds_ratio_AUS','n_'+time_period+'_AUS','n_'+time_period+'_AUS_cont','n_'+time_period+'_SW','n_'+time_period+'_SW_cont','n_'+time_period+'_FR2','n_'+time_period+'_FR_cont']]\n",
    "meta_analysis = meta_analysis.replace('nan (nan-nan)','')\n",
    "# Formater les p-values : arrondir à 3 décimales ou \"< 0.001\" si inférieur à 0.001\n",
    "meta_analysis['p_value'] = meta_analysis['p_value'].apply(lambda x: '< 0.001' if x < 0.001 else round(x, 3))\n",
    "\n",
    "meta_analysis = meta_analysis.sort_values(by=['final_name'])\n",
    "meta_analysis.to_csv('meta_analysis_result_als_final_'+time_period+'.csv',sep=';')"
   ]
  }
 ],
 "metadata": {
  "kernelspec": {
   "display_name": "Python 3 (ipykernel)",
   "language": "python",
   "name": "python3"
  },
  "language_info": {
   "codemirror_mode": {
    "name": "ipython",
    "version": 3
   },
   "file_extension": ".py",
   "mimetype": "text/x-python",
   "name": "python",
   "nbconvert_exporter": "python",
   "pygments_lexer": "ipython3",
   "version": "3.11.5"
  }
 },
 "nbformat": 4,
 "nbformat_minor": 5
}
